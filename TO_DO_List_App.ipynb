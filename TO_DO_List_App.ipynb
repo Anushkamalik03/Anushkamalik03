{
  "nbformat": 4,
  "nbformat_minor": 0,
  "metadata": {
    "colab": {
      "provenance": [],
      "authorship_tag": "ABX9TyNRXpiieRMtay0bVGov/cYb",
      "include_colab_link": true
    },
    "kernelspec": {
      "name": "python3",
      "display_name": "Python 3"
    },
    "language_info": {
      "name": "python"
    }
  },
  "cells": [
    {
      "cell_type": "markdown",
      "metadata": {
        "id": "view-in-github",
        "colab_type": "text"
      },
      "source": [
        "<a href=\"https://colab.research.google.com/github/Anushkamalik03/Anushkamalik03/blob/main/TO_DO_List_App.ipynb\" target=\"_parent\"><img src=\"https://colab.research.google.com/assets/colab-badge.svg\" alt=\"Open In Colab\"/></a>"
      ]
    },
    {
      "cell_type": "code",
      "execution_count": null,
      "metadata": {
        "id": "O8M36lMd4R6T"
      },
      "outputs": [],
      "source": [
        "todo_list = []\n",
        "\n",
        "def show_menu():\n",
        "  print(\"\\n To-Do List Menu:\")\n",
        "  print(\"1. Add Task\")\n",
        "  print(\"2. Mark Task as Completed\")\n",
        "  print(\"3. View Tasks\")\n",
        "  print(\"4. Remove Tasks\")\n",
        "  print(\"5. Exit\")\n",
        "\n",
        "\n",
        "def add_task():\n",
        "  task = input(\"Enter the task: \")\n",
        "  todo_list.append(task)\n",
        "  print(f'Task \"{task}\" added successfully!')\n",
        "\n",
        "\n",
        "def view_tasks():\n",
        "  if len(todo_list) == 0:\n",
        "    print(\"No tasks in your list.\")\n",
        "  else:\n",
        "    print(\"\\n Your Tasks:\")\n",
        "    for i , task in enumerate(todo_list, start=1):\n",
        "      print(f\"{i}.{task}\")\n",
        "\n",
        "\n",
        "def remove_task():\n",
        "  view_tasks()\n",
        "  if len(todo_list) > 0:\n",
        "    try:\n",
        "      task_number = int(input(\"Enter task number to remove:\"))\n",
        "      removed = todo_list.pop(task_number - 1)\n",
        "      print(f\" Task '{removed}' removed.\")\n",
        "    except (IndexError, ValueError):\n",
        "      print(\"Invalid task number.\")\n",
        "\n",
        "\n",
        "while True:\n",
        "\n",
        "  show_menu()\n",
        "  choice = input(\"Enter your choice (1-4): \")\n",
        "\n",
        "\n",
        "if choice == \"1\":\n",
        "  add_task()\n",
        "elif choice == \"2\":\n",
        "  view_task()\n",
        "elif choice == \"3\":\n",
        "  remove_task()\n",
        "elif choice == \"4\":\n",
        "  print(\"Exiting To-Do App. See you soon!\")\n",
        "  break\n",
        "else:\n",
        "  print(\"Invalid choice. Please enter 1-4.\")"
      ]
    },
    {
      "cell_type": "code",
      "source": [],
      "metadata": {
        "id": "g7jrnwsLAWb-"
      },
      "execution_count": null,
      "outputs": []
    }
  ]
}